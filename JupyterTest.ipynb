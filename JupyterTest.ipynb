{
  "nbformat": 4,
  "nbformat_minor": 0,
  "metadata": {
    "colab": {
      "provenance": [],
      "toc_visible": true
    },
    "kernelspec": {
      "name": "python3",
      "display_name": "Python 3"
    },
    "language_info": {
      "name": "python"
    }
  },
  "cells": [
    {
      "cell_type": "code",
      "execution_count": null,
      "metadata": {
        "colab": {
          "base_uri": "https://localhost:8080/"
        },
        "id": "gAdynxFpxaiR",
        "outputId": "f096ecb2-c3e2-4cb8-d5f3-54e4a88b5b35"
      },
      "outputs": [
        {
          "output_type": "stream",
          "name": "stdout",
          "text": [
            "hi\n",
            "hi\n",
            "hi\n",
            "hi\n",
            "hi\n",
            "hi\n",
            "hi\n",
            "hi\n",
            "hi\n",
            "hi\n",
            "hello\n"
          ]
        }
      ],
      "source": [
        "for i in range(8):\n",
        "  print(\"hi\")\n",
        "print(\"hello\")"
      ]
    },
    {
      "cell_type": "code",
      "source": [
        "print(\"good\")\n",
        "print(\"nice\")"
      ],
      "metadata": {
        "id": "MPNd2FG41yDW"
      },
      "execution_count": null,
      "outputs": []
    }
  ]
}